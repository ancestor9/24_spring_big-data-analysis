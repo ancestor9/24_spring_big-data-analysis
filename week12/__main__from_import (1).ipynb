{
  "nbformat": 4,
  "nbformat_minor": 0,
  "metadata": {
    "colab": {
      "provenance": []
    },
    "kernelspec": {
      "name": "python3",
      "display_name": "Python 3"
    },
    "language_info": {
      "name": "python"
    }
  },
  "cells": [
    {
      "cell_type": "markdown",
      "source": [
        "## **__name__**\n",
        "## **from 폴더(folder) import 파일(file)**\n",
        "- **폴더 또는 경로(디렉토리) 생성(mkdir, makedirs 차이)**"
      ],
      "metadata": {
        "id": "P1tzIQJ9EWJ3"
      }
    },
    {
      "cell_type": "code",
      "source": [
        "print(__name__)"
      ],
      "metadata": {
        "colab": {
          "base_uri": "https://localhost:8080/"
        },
        "id": "EGl5-BV1G1KQ",
        "outputId": "9f66ef5b-4b46-4e08-d8b0-46f32fde9c20"
      },
      "execution_count": null,
      "outputs": [
        {
          "output_type": "stream",
          "name": "stdout",
          "text": [
            "__main__\n"
          ]
        }
      ]
    },
    {
      "cell_type": "code",
      "execution_count": null,
      "metadata": {
        "colab": {
          "base_uri": "https://localhost:8080/"
        },
        "id": "V7U9fUe1D_SQ",
        "outputId": "c0761e28-108f-4218-8efd-65d64726fc62"
      },
      "outputs": [
        {
          "output_type": "stream",
          "name": "stdout",
          "text": [
            "Writing apple.py\n"
          ]
        }
      ],
      "source": [
        "%%writefile apple.py\n",
        "# apple.py\n",
        "\n",
        "def sum(x,y):\n",
        "    return x+y\n",
        "\n",
        "def minus(x,y):\n",
        "    return x-y\n",
        "\n",
        "print( f'apple name = {__name__}')\n",
        "print('sum(2,3)= 5')\n",
        "print('minus(3,2)= 1')"
      ]
    },
    {
      "cell_type": "code",
      "source": [
        "import apple\n",
        "\n",
        "x= 5\n",
        "y= 3\n",
        "\n",
        "print (f'\\n x+y = {apple.sum(x,y)}')\n",
        "print (f'\\n bus name = {__name__}')"
      ],
      "metadata": {
        "colab": {
          "base_uri": "https://localhost:8080/"
        },
        "id": "lvuEXy5rEFBk",
        "outputId": "d554047f-153e-450b-f5f8-ca5c47f8dc45"
      },
      "execution_count": null,
      "outputs": [
        {
          "output_type": "stream",
          "name": "stdout",
          "text": [
            "\n",
            " x+y = 8\n"
          ]
        }
      ]
    },
    {
      "cell_type": "code",
      "source": [
        "%%writefile mango.py\n",
        "# mango.py\n",
        "\n",
        "def sum(x,y):\n",
        "    return x+y\n",
        "\n",
        "def minus(x,y):\n",
        "    return x-y\n",
        "\n",
        "print( f'apple name = {__name__}')\n",
        "\n",
        "if __name__ == 'apple':     # 조건 추가\n",
        "    print('sum(2,3)= 5')\n",
        "\n",
        "if __name__ == '__main__':  # 조건 추가\n",
        "    print('minus(3,2)= 1')"
      ],
      "metadata": {
        "colab": {
          "base_uri": "https://localhost:8080/"
        },
        "id": "HdKf5Me1ERDk",
        "outputId": "709f8581-943b-43d4-a1cd-bf9afd15a91c"
      },
      "execution_count": null,
      "outputs": [
        {
          "output_type": "stream",
          "name": "stdout",
          "text": [
            "Writing mango.py\n"
          ]
        }
      ]
    },
    {
      "cell_type": "code",
      "source": [
        "import mango\n",
        "\n",
        "x= 5\n",
        "y= 3\n",
        "\n",
        "print (f'\\n x+y = {mango.sum(x,y)}')\n",
        "print (f'\\n bus name = {__name__}')"
      ],
      "metadata": {
        "colab": {
          "base_uri": "https://localhost:8080/"
        },
        "id": "wIReAcW-E12-",
        "outputId": "619a8b75-6586-4e09-ee30-ed1863cdd6c1"
      },
      "execution_count": null,
      "outputs": [
        {
          "output_type": "stream",
          "name": "stdout",
          "text": [
            "apple name = mango\n",
            "\n",
            " x+y = 8\n",
            "\n",
            " bus name = __main__\n"
          ]
        }
      ]
    },
    {
      "cell_type": "code",
      "source": [
        "def sum(x,y):\n",
        "    return x+y\n",
        "\n",
        "def minus(x,y):\n",
        "    return x-y\n",
        "\n",
        "print( f'apple name = {__name__}')\n",
        "\n",
        "if __name__ == 'apple':     # 조건 추가\n",
        "    print('sum(2,3)= 5')\n",
        "\n",
        "if __name__ == '__main__':  # 조건 추가\n",
        "    print('minus(3,2)= 1')"
      ],
      "metadata": {
        "colab": {
          "base_uri": "https://localhost:8080/"
        },
        "id": "rxBWhJ5nE4Rv",
        "outputId": "27acaab6-f2d7-432a-a077-27087ebd9033"
      },
      "execution_count": null,
      "outputs": [
        {
          "output_type": "stream",
          "name": "stdout",
          "text": [
            "apple name = __main__\n",
            "minus(3,2)= 1\n"
          ]
        }
      ]
    },
    {
      "cell_type": "code",
      "source": [
        "import os\n",
        "\n",
        "# 폴더 생성\n",
        "os.mkdir('./new_folder')\n",
        "\n",
        "# 디렉토리 생성\n",
        "os.makedirs('./a/b/c', exist_ok=True)"
      ],
      "metadata": {
        "id": "1dDmW45QFq4P"
      },
      "execution_count": null,
      "outputs": []
    },
    {
      "cell_type": "code",
      "source": [
        "%%writefile ./new_folder/melon.py\n",
        "# melon.py\n",
        "\n",
        "def sum(x,y):\n",
        "    return x+y\n",
        "\n",
        "def minus(x,y):\n",
        "    return x-y\n",
        "\n",
        "print( f'apple name = {__name__}')\n",
        "print('sum(2,3)= 5')\n",
        "print('minus(3,2)= 1')"
      ],
      "metadata": {
        "colab": {
          "base_uri": "https://localhost:8080/"
        },
        "id": "GkrAVVZDGXye",
        "outputId": "216e28e2-4722-4497-bc1e-968ecbb241e0"
      },
      "execution_count": null,
      "outputs": [
        {
          "output_type": "stream",
          "name": "stdout",
          "text": [
            "Writing ./new_folder/melon.py\n"
          ]
        }
      ]
    },
    {
      "cell_type": "code",
      "source": [
        "from new_folder import melon\n",
        "\n",
        "x= 5\n",
        "y= 3\n",
        "\n",
        "print (f'\\n x+y = {melon.sum(x,y)}')\n",
        "print (f'\\n bus name = {__name__}')"
      ],
      "metadata": {
        "colab": {
          "base_uri": "https://localhost:8080/"
        },
        "id": "zAB3VTcPGhLh",
        "outputId": "a1667ec0-4331-4a61-b4a7-208a0a42720d"
      },
      "execution_count": null,
      "outputs": [
        {
          "output_type": "stream",
          "name": "stdout",
          "text": [
            "\n",
            " x+y = 8\n",
            "\n",
            " bus name = __main__\n"
          ]
        }
      ]
    },
    {
      "cell_type": "markdown",
      "source": [
        "## **임의의 두 양의 정수사이에서 소수를 찾는 코드**"
      ],
      "metadata": {
        "id": "7p_PWIuhdu65"
      }
    },
    {
      "cell_type": "code",
      "source": [
        "def is_prime(num):\n",
        "    \"\"\"주어진 수가 소수인지 판별합니다.\"\"\"\n",
        "    if num <= 1:\n",
        "        return False\n",
        "    for i in range(2, int(num**0.5) + 1):\n",
        "        if num % i == 0:\n",
        "            return False\n",
        "    return True\n",
        "\n",
        "def print_primes_between(a, b):\n",
        "    \"\"\"두 수 사이의 소수를 출력합니다.\"\"\"\n",
        "    start = min(a, b)\n",
        "    end = max(a, b)\n",
        "    for num in range(start, end + 1):\n",
        "        if is_prime(num):\n",
        "            print(num)\n",
        "\n",
        "# 사용자로부터 두 개의 정수를 입력받습니다.\n",
        "a = int(input(\"첫 번째 정수를 입력하세요: \"))\n",
        "b = int(input(\"두 번째 정수를 입력하세요: \"))\n",
        "\n",
        "# 두 정수 사이의 소수를 출력합니다.\n",
        "print_primes_between(a, b)"
      ],
      "metadata": {
        "id": "Uga_86OfGrLs",
        "colab": {
          "base_uri": "https://localhost:8080/"
        },
        "outputId": "f76c6f4c-9d7c-485f-b365-ec115dc26f91"
      },
      "execution_count": null,
      "outputs": [
        {
          "output_type": "stream",
          "name": "stdout",
          "text": [
            "첫 번째 정수를 입력하세요: 11\n",
            "두 번째 정수를 입력하세요: 109\n",
            "11\n",
            "13\n",
            "17\n",
            "19\n",
            "23\n",
            "29\n",
            "31\n",
            "37\n",
            "41\n",
            "43\n",
            "47\n",
            "53\n",
            "59\n",
            "61\n",
            "67\n",
            "71\n",
            "73\n",
            "79\n",
            "83\n",
            "89\n",
            "97\n",
            "101\n",
            "103\n",
            "107\n",
            "109\n"
          ]
        }
      ]
    },
    {
      "cell_type": "code",
      "source": [
        "class myown():\n",
        "\n",
        "    def sum(x,y):\n",
        "        return x+y\n",
        "\n",
        "    def minus(x,y):\n",
        "        return x-y"
      ],
      "metadata": {
        "id": "XcN7mav9d3xH"
      },
      "execution_count": null,
      "outputs": []
    },
    {
      "cell_type": "code",
      "source": [
        "my = myown()\n",
        "my"
      ],
      "metadata": {
        "colab": {
          "base_uri": "https://localhost:8080/"
        },
        "id": "L5sJiet7eGxw",
        "outputId": "b6c36841-3a7c-4d2e-a924-f1c7bdd998c0"
      },
      "execution_count": null,
      "outputs": [
        {
          "output_type": "execute_result",
          "data": {
            "text/plain": [
              "<__main__.myown at 0x7a3e63685600>"
            ]
          },
          "metadata": {},
          "execution_count": 6
        }
      ]
    },
    {
      "cell_type": "code",
      "source": [
        "print(type(my))"
      ],
      "metadata": {
        "colab": {
          "base_uri": "https://localhost:8080/"
        },
        "id": "ucboeK0keOE_",
        "outputId": "676669f1-3396-4fbf-e54b-e4831b75213c"
      },
      "execution_count": null,
      "outputs": [
        {
          "output_type": "stream",
          "name": "stdout",
          "text": [
            "<class '__main__.myown'>\n"
          ]
        }
      ]
    },
    {
      "cell_type": "code",
      "source": [],
      "metadata": {
        "id": "VzCq7brbeiGQ"
      },
      "execution_count": null,
      "outputs": []
    }
  ]
}